{
 "cells": [
  {
   "cell_type": "markdown",
   "id": "62abc49e-5f5a-4d56-8a05-b8645b3c2a47",
   "metadata": {},
   "source": [
    "#Q1.Define the z-statistic and explain its relationship to the normal distribution. how is the z-statistic used in hypothesis testing\n",
    "?\n"
   ]
  },
  {
   "cell_type": "code",
   "execution_count": 1,
   "id": "4c79cfa1-7a1f-40bf-9906-c725defe52b7",
   "metadata": {},
   "outputs": [],
   "source": [
    "#The z-statistic is a measure that indicates how many standard deviations a data point is from the mean of a dataset. \n",
    "# Formula:-  z=(X−μ)/σ\n",
    "#where:\n",
    "#   X >> observed value,\n",
    "#   μ >> population mean,\n",
    "#   σ >> population standard deviation.\n",
    "\n",
    "#    Relationship to the Standard Normal Distribution:-\n",
    "#The z-statistic follows a standard normal distribution, which is a normal distribution with a mean of 0 and a standard deviation of 1. \n",
    "#This means that any z-value can be interpreted in terms of standard deviations away from the mean.\n",
    "#For example, a z-value of 2 indicates that the data point is 2 standard deviations above the mean.\n",
    "\n",
    "#In hypothesis testing, the z-statistic is used to determine whether to reject the null hypothesis (H0).\n",
    "\n"
   ]
  },
  {
   "cell_type": "markdown",
   "id": "a6880fd1-27d2-4840-ab8c-16c0d6f04764",
   "metadata": {},
   "source": [
    "Q2. What is a p-value , and how is it used in hypothesis testing? what does it mean if the p-value is very small (e.g.,0.01)?"
   ]
  },
  {
   "cell_type": "code",
   "execution_count": 2,
   "id": "0da364d3-3627-4b84-aa0a-05516254b7c6",
   "metadata": {},
   "outputs": [],
   "source": [
    "# A p-value is a statistical measure that helps determine the significance of your results in hypothesis testing.\n",
    "# p-value used in hypothesis testing:-\n",
    "# 1.Formulate hypothesis,\n",
    "# 2.Collect data,\n",
    "# 3.Calculate the p-value,\n",
    "# 4.Compare to significance level( commonly alpha= 0.05 or 0.01), \n",
    "#        If the p-value is less than or equal to αα, you reject the null hypothesis.\n",
    "#        If the p-value is greater than αα, you fail to reject the null hypothesis.\n",
    "\n",
    "# If the p-value is very small(e.g.,0.01):-\n",
    "#  it indicates that the 1% chance of observing such extreme results (or more) if the null hypothesis were true."
   ]
  },
  {
   "cell_type": "markdown",
   "id": "3bd3dae4-dfa3-4f70-894c-0b0cb1bb7146",
   "metadata": {},
   "source": [
    "Q3. Compare and contrast the binomial and bernoulli distributions?"
   ]
  },
  {
   "cell_type": "code",
   "execution_count": 3,
   "id": "693edf0e-e3a7-481a-9331-4c2c1a8cf598",
   "metadata": {},
   "outputs": [],
   "source": [
    "# Binomial Distribution:-  the number of successes in a fixed number of independent Bernoulli trials.\n",
    "# Bernoulli Distributions:- a single trial with two possible outcomes: success (1) or failure (0).\n",
    "\n",
    "# Outcome Range:\n",
    "# Binomial: Can yield multiple outcomes ranging from 0 to n.\n",
    "# Bernoulli: Two outcomes (0 or 1).\n",
    "\n",
    "# Complexity:\n",
    "# Binomial: More complex; aggregates results from multiple Bernoulli experiments.\n",
    "# Bernoulli: Simpler; used for one experiment."
   ]
  },
  {
   "cell_type": "markdown",
   "id": "ffe32ce4-1925-4589-8663-3b1ac2fc448e",
   "metadata": {},
   "source": [
    "Q4. Under what conditions is the binomial distribution used, and how does it relate to the bernoulli distribution?"
   ]
  },
  {
   "cell_type": "code",
   "execution_count": 4,
   "id": "f5cdba52-3acf-450b-a982-ed5d8a12ecad",
   "metadata": {},
   "outputs": [],
   "source": [
    "#Conditions for Using the Binomial Distribution:-\n",
    "\n",
    "# 1.Fixed Number of Trials:- There should be a predetermined number of trials.\n",
    "# 2.Two Possible Outcomes:- Each trial must result in one of two outcomes.\n",
    "# 3.Independent Trials:- The outcome of one trial should not affect the outcomes of any other trials.\n",
    "\n",
    "# It relates to the bernoulli distribution by:-\n",
    "\n",
    "# 1.The Bernoulli distribution describes the outcome of a single trial, with outcomes of success or failure.\n",
    "#   It can be viewed as a binomial distribution with n=1.\n",
    "# 2.If we conduct n experiments where each has a success probability p, the number of successes across all trials follows a binomial distribution."
   ]
  },
  {
   "cell_type": "markdown",
   "id": "6cd70b5c-15ba-4ebf-a57d-c1dc77c8d0f6",
   "metadata": {},
   "source": [
    "Q5. What are the key properties of the Poisson distribution, and when is it appropriate to use this distribution?"
   ]
  },
  {
   "cell_type": "code",
   "execution_count": 5,
   "id": "abf0ba0b-91c4-45c8-9f18-cd0454efe616",
   "metadata": {},
   "outputs": [],
   "source": [
    "# The Poisson distribution is valuable for modeling the number of times an event occurs in a specified interval under conditions of independence \n",
    "# and a constant mean rate. Its key properties include being defined for discrete non-negative integers, having a mean equal to its variance, \n",
    "# and being suitable for rare events or counts of occurrences in time or space.\n"
   ]
  },
  {
   "cell_type": "markdown",
   "id": "7d4bf7c0-d37d-4f76-89f9-08b40c204e84",
   "metadata": {},
   "source": [
    "Q6.Define the terms \"probability distribution\" and \"probability density function\" (PDF). How does a PDF differ from a probability mass function (PMF)?"
   ]
  },
  {
   "cell_type": "code",
   "execution_count": 6,
   "id": "6d65ab79-c032-4a8f-8299-947374116242",
   "metadata": {},
   "outputs": [],
   "source": [
    "# Probability distribution:-   describes how the probabilities of a random variable are distributed across its possible values.\n",
    "#     It is categorized into two main types:-\n",
    "#  1. Discrete Probability Distribution: Deals with discrete random variables, which can take on a countable number of value\n",
    "#                                        (e.g., number of heads in coin tosses).\n",
    "#  2. Continuous Probability Distribution: Deals with continuous random variables, which can take on an infinite number of values within a range\n",
    "#                                          (e.g., height, weight).\n",
    "\n",
    "\n",
    "# Probability density function(PDF):-  function used in the context of continuous probability distributions. \n",
    "\n",
    "# probability mass function (PMF):-  function used in the context of discrete probability distributions. \n",
    "\n",
    "# Differences Between PDF and PMF:-\n",
    "# PDF: 1. Used for continuous random variables, \n",
    "#      2. Represents probabilities in terms of density; probabilities over intervals are obtained via integration,\n",
    "#      3. Probability of a specific value is technically zero, but probabilities for intervals can be calculated.\n",
    "\n",
    "# PMF: 1. Used for discrete random variables,\n",
    "#      2. Represents exact probabilities for specific outcomes,\n",
    "#      3. Directly provides the probability for specific discrete values."
   ]
  },
  {
   "cell_type": "markdown",
   "id": "a2bf2ebc-9375-4479-a5dc-57e3173fb349",
   "metadata": {},
   "source": [
    "Q7. Explain the Central Limit Theorem(CLT) with example."
   ]
  },
  {
   "cell_type": "code",
   "execution_count": 7,
   "id": "4017cc7f-7e14-4e28-a805-47fe2fbdce5a",
   "metadata": {},
   "outputs": [],
   "source": [
    "#                CENTRAL LIMIT THEOREM(CLT):-\n",
    "#  It shows that regardless of the shape of the population distribution, the distribution of sample means will approach a normal distribution\n",
    "#  as the sample size increases. This powerful theorem underpins many statistical methods, making it easier to analyze and make inferences about data.\n",
    "\n",
    "#  Example of the CLT:-\n",
    "\n",
    "#  Scenario:- \n",
    "# Suppose we want to study the heights of adult males in a city.assume that the heights are uniformly distributed between 150 cm and 190 cm (not normal).\n",
    "\n",
    "#   Population Distribution:- The height distribution is uniform and not normal.\n",
    "#   Sample Size:- we decide to take random samples of size n=30 from this population. we repeat this sampling process many times.\n",
    "#   Calculating Sample Means:- For each sample of 30 heights,we calculate the mean height. After conducting, say, 1,000 of these samples, \n",
    "#                              we will have 1,000 sample means.\n",
    "#   Distribution of Sample Means:- According to the CLT, as we continue to take more samples and calculate their means,\n",
    "#                                 the distribution of these sample means will start to resemble a normal distribution, \n",
    "#                                 even though the original population distribution (heights) is not normal.\n",
    "#   Result:- If we plot the histogram of the 1,000 sample means, we would observe that it approximates a bell-shaped curve (normal distribution), \n",
    "#           centered around the true population mean of the heights."
   ]
  },
  {
   "cell_type": "markdown",
   "id": "1e7b3b29-d66b-439d-a05b-352fd7e4d8d9",
   "metadata": {},
   "source": [
    "Q8. Compare z-scores and t-scores. When should you use a z-score, and when should a t-score be applied instead?"
   ]
  },
  {
   "cell_type": "code",
   "execution_count": 8,
   "id": "2e611d6f-6f67-48ca-836a-6d1ab91ef644",
   "metadata": {},
   "outputs": [],
   "source": [
    "# Z-score:- represents the number of standard deviations a data point is from the population mean.\n",
    "# t-score:- measures the number of standard deviations a data point is from the sample mean, but it accounts for the variability in smaller samples.\n",
    "\n",
    "# When to Use Each Score:-\n",
    "\n",
    "# Use of Z-score:\n",
    "#         The population standard deviation is known.\n",
    "#         The sample size is large (n >= 30).\n",
    "#         We are working with a normally distributed population.\n",
    "# Use of t-score:\n",
    "#         The population standard deviation is unknown.\n",
    "#         The sample size is small (n < 30).\n",
    "#         The sample is drawn from a normally distributed population (or approximately normal).\n",
    "\n",
    "#                                         SUMMARY:-\n",
    "#     z-scores and t-scores serve similar purposes in standardizing data, but they are applied in different situations based on the known parameters \n",
    "#     & sample sizes. The choice between them is critical for accurate statistical inference."
   ]
  },
  {
   "cell_type": "markdown",
   "id": "244a59f8-33f3-447a-93c6-84aad8d7e0a6",
   "metadata": {},
   "source": [
    "Q9. Given a sample mean of 105, a population mean of 100, a standard deviation of 15, and a sample size of 25, calculate the z-score and p-value.\n",
    "    Based on a significance level of 0.05, do you reject or fail to reject the null hypothesis?\n",
    "    Task: Write Python code to calculate the z-score and p-value for the given data.\n",
    "    Objective: Apply the formula for the z-score and interpret the p-value for hypothesis testing?\n",
    "     "
   ]
  },
  {
   "cell_type": "code",
   "execution_count": 9,
   "id": "64837a57-21bd-47ea-b8bc-c9f5516fb7a8",
   "metadata": {},
   "outputs": [
    {
     "name": "stdout",
     "output_type": "stream",
     "text": [
      "Z-score:---- 1.6666666666666667\n",
      "P-value:---- 0.09558070454562939\n",
      "Decision:--- Fail to reject the null hypothesis\n"
     ]
    }
   ],
   "source": [
    "import numpy as np\n",
    "from scipy.stats import norm\n",
    "\n",
    "# Given data\n",
    "sample_mean = 105\n",
    "population_mean = 100\n",
    "standard_deviation = 15\n",
    "sample_size = 25\n",
    "\n",
    "# Calculate the z-score\n",
    "z_score = (sample_mean - population_mean) / (standard_deviation / np.sqrt(sample_size))\n",
    "\n",
    "# Calculate the p-value for a two-tailed test\n",
    "p_value = 2 * (1 - norm.cdf(z_score))\n",
    "\n",
    "# Output the results\n",
    "print(\"Z-score:----\" , z_score)\n",
    "print(\"P-value:----\" , p_value)\n",
    "\n",
    "# Significance level\n",
    "alpha = 0.05\n",
    "\n",
    "# Decision based on the p-value\n",
    "if p_value < alpha:\n",
    "    decision = \"Reject the null hypothesis\"\n",
    "else:\n",
    "    decision = \"Fail to reject the null hypothesis\"\n",
    "\n",
    "print(\"Decision:---\", decision)"
   ]
  },
  {
   "cell_type": "markdown",
   "id": "05d927d8-b712-4217-8933-ab12e3848e27",
   "metadata": {},
   "source": [
    "Q10. Simulate a binomial distribution with 10 trials and a probability of succcess of 0.6 using Python. Generate 1,000 samples and plot the distribution. \n",
    "     What is the expected mean and variance?\n",
    "     Task: Use Python to generate the data, plot the distribution, and Calculate the mean and variance.\n",
    "     Objective: Understand the properties of a binomial distribution and verify them through simulation."
   ]
  },
  {
   "cell_type": "code",
   "execution_count": 10,
   "id": "58358512-9ac4-4d57-a592-eaa8057f8fae",
   "metadata": {},
   "outputs": [
    {
     "data": {
      "image/png": "[encoded data removed]",
      "text/plain": [
       "<Figure size 1000x600 with 1 Axes>"
      ]
     },
     "metadata": {},
     "output_type": "display_data"
    },
    {
     "name": "stdout",
     "output_type": "stream",
     "text": [
      "Mean:--- 5.938\n",
      "Variance:--- 2.330156\n"
     ]
    }
   ],
   "source": [
    "import numpy as np\n",
    "import matplotlib.pyplot as plt\n",
    "import seaborn as sns\n",
    "\n",
    "# Parameters\n",
    "n = 10  # number of trials\n",
    "p = 0.6  # probability of success\n",
    "num_samples = 1000  # number of samples\n",
    "\n",
    "# Simulate binomial distribution\n",
    "samples = np.random.binomial(n, p, num_samples)\n",
    "\n",
    "# Calculate mean and variance\n",
    "mean = np.mean(samples)\n",
    "variance = np.var(samples)\n",
    "\n",
    "# Plotting the distribution\n",
    "plt.figure(figsize=(10, 6))\n",
    "sns.histplot(samples, bins=np.arange(-0.5, n+1.5, 1), kde=False, stat=\"probability\")\n",
    "plt.title('Binomial Distribution (n=10, p=0.6)')\n",
    "plt.xlabel('Number of Successes')\n",
    "plt.ylabel('Probability')\n",
    "plt.xticks(np.arange(n+1))\n",
    "plt.grid(axis='y')\n",
    "\n",
    "# Show the plot\n",
    "plt.show()\n",
    "\n",
    "# Print mean and variance\n",
    "print(\"Mean:---\", mean)\n",
    "print(\"Variance:---\", variance)"
   ]
  },
  {
   "cell_type": "code",
   "execution_count": null,
   "id": "945f514a-fb4f-4509-8d2b-65f3e746ac35",
   "metadata": {},
   "outputs": [],
   "source": []
  }
 ],
 "metadata": {
  "kernelspec": {
   "display_name": "Python 3 (ipykernel)",
   "language": "python",
   "name": "python3"
  },
  "language_info": {
   "codemirror_mode": {
    "name": "ipython",
    "version": 3
   },
   "file_extension": ".py",
   "mimetype": "text/x-python",
   "name": "python",
   "nbconvert_exporter": "python",
   "pygments_lexer": "ipython3",
   "version": "3.12.5"
  }
 },
 "nbformat": 4,
 "nbformat_minor": 5
}
